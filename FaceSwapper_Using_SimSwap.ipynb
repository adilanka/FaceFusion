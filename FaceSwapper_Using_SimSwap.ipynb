{
  "nbformat": 4,
  "nbformat_minor": 0,
  "metadata": {
    "colab": {
      "provenance": [],
      "gpuType": "T4",
      "toc_visible": true
    },
    "kernelspec": {
      "name": "python3",
      "display_name": "Python 3"
    },
    "language_info": {
      "name": "python"
    },
    "accelerator": "GPU"
  },
  "cells": [
    {
      "cell_type": "code",
      "execution_count": null,
      "metadata": {
        "id": "x5nY_Es5ApQg"
      },
      "outputs": [],
      "source": [
        "import cv2\n",
        "from google.colab.patches import cv2_imshow\n",
        "from matplotlib import pyplot as plt"
      ]
    },
    {
      "cell_type": "code",
      "source": [
        "!git clone https://github.com/neuralchen/SimSwap.git"
      ],
      "metadata": {
        "id": "MLPfpDTrPALn"
      },
      "execution_count": null,
      "outputs": []
    },
    {
      "cell_type": "code",
      "source": [
        "!nvidia-smi"
      ],
      "metadata": {
        "id": "o1AztcG9x8uA"
      },
      "execution_count": null,
      "outputs": []
    },
    {
      "cell_type": "code",
      "source": [
        "%cd SimSwap/"
      ],
      "metadata": {
        "id": "uoPmUDjoPPL1"
      },
      "execution_count": null,
      "outputs": []
    },
    {
      "cell_type": "code",
      "source": [
        "!pip install insightface==0.2.1 onnxruntime moviepy > /dev/null\n",
        "!pip install imageio==2.4.1 > /dev/null\n",
        "!pip install googledrivedownloader > /dev/null\n",
        "!pip install onnxruntime-gpu"
      ],
      "metadata": {
        "id": "GySNIy7hPeKG"
      },
      "execution_count": null,
      "outputs": []
    },
    {
      "cell_type": "code",
      "source": [
        "!pip3 install torch==1.11.0+cu115 torchvision==0.12.0+cu115 torchaudio==0.11.0+cu115 torchtext==0.12.0 -f https://download.pytorch.org/whl/torch_stable.html"
      ],
      "metadata": {
        "id": "A5cVHVAsPsom"
      },
      "execution_count": null,
      "outputs": []
    },
    {
      "cell_type": "code",
      "source": [
        "!wget -P ./arcface_model https://github.com/neuralchen/SimSwap/releases/download/1.0/arcface_checkpoint.tar\n",
        "!wget https://github.com/neuralchen/SimSwap/releases/download/1.0/checkpoints.zip\n",
        "!wget -P ./parsing_model/checkpoint https://github.com/neuralchen/SimSwap/releases/download/1.0/79999_iter.pth\n",
        "!wget https://github.com/neuralchen/SimSwap/releases/download/512_beta/512.zip\n",
        "!wget --no-check-certificate \\\n",
        " https://sh23tw.dm.files.1drv.com/y4mmGiIkNVigkSwOKDcV3nwMJulRGhbtHdkheehR5TArc52UjudUYNXAEvKCii2O5LAmzGCGK6IfleocxuDeoKxDZkNzDRSt4ZUlEt8GlSOpCXAFEkBwaZimtWGDRbpIGpb_pz9Nq5jATBQpezBS6G_UtspWTkgrXHHxhviV2nWy8APPx134zOZrUIbkSF6xnsqzs3uZ_SEX_m9Rey0ykpx9w \\\n",
        " -O antelope.zip"
      ],
      "metadata": {
        "id": "DOFhfY9DQJ5G"
      },
      "execution_count": null,
      "outputs": []
    },
    {
      "cell_type": "code",
      "source": [
        "!unzip ./checkpoints.zip -d ./checkpoints\n",
        "!unzip 512.zip -d ./checkpoints\n",
        "!unzip antelope.zip -d ./insightface_func/models/"
      ],
      "metadata": {
        "id": "aWQVDfBIQif8"
      },
      "execution_count": null,
      "outputs": []
    },
    {
      "cell_type": "code",
      "source": [
        "root_directory = '/content/SimSwap/'"
      ],
      "metadata": {
        "id": "bkO55eM5aQqD"
      },
      "execution_count": null,
      "outputs": []
    },
    {
      "cell_type": "code",
      "source": [
        "%mkdir -p {root_directory}images/"
      ],
      "metadata": {
        "id": "v2pK0h_saWQ9"
      },
      "execution_count": null,
      "outputs": []
    },
    {
      "cell_type": "code",
      "source": [
        "Img1 = 'images/Profile.png'\n",
        "seed_Img = 'images/IB1.jpg'\n",
        "\n",
        "input_img = '{}{}'.format(root_directory, Img1)\n",
        "output_img = '{}{}'.format(root_directory, seed_Img)"
      ],
      "metadata": {
        "id": "YX6Kbj0nb24S"
      },
      "execution_count": null,
      "outputs": []
    },
    {
      "cell_type": "code",
      "source": [
        "input = cv2.imread(input_img)\n",
        "cv2_imshow(input)\n",
        "output = cv2.imread(output_img)\n",
        "cv2_imshow(output)"
      ],
      "metadata": {
        "id": "GynYfCC6co3T"
      },
      "execution_count": null,
      "outputs": []
    },
    {
      "cell_type": "code",
      "source": [
        "%mkdir -p {root_directory}results/"
      ],
      "metadata": {
        "id": "beIhKN8Dcxqb"
      },
      "execution_count": null,
      "outputs": []
    },
    {
      "cell_type": "code",
      "source": [
        "!python test_wholeimage_swapsingle.py --use_mask --crop_size 224 --isTrain false --name people \\\n",
        "--Arc_path arcface_model/arcface_checkpoint.tar --pic_a_path {input_img} --pic_b_path {output_img} \\\n",
        "--output_path {root_directory}results --no_simswaplogo"
      ],
      "metadata": {
        "id": "DZ0dXowAdE8b"
      },
      "execution_count": null,
      "outputs": []
    },
    {
      "cell_type": "code",
      "source": [
        "dir_results = '{}results/'.format(root_directory)"
      ],
      "metadata": {
        "id": "nBUaLsMRpp1i"
      },
      "execution_count": null,
      "outputs": []
    },
    {
      "cell_type": "code",
      "source": [
        "result = cv2.imread('{}result_whole_swapsingle.jpg'.format(dir_results))\n",
        "\n",
        "cv2_imshow(result)"
      ],
      "metadata": {
        "id": "1LS6LHyupwdO"
      },
      "execution_count": null,
      "outputs": []
    }
  ]
}